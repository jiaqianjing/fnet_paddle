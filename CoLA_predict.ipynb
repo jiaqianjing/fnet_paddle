{
 "cells": [
  {
   "cell_type": "code",
   "execution_count": 31,
   "id": "f6b1917f-f31c-409d-86ac-3e05e922ac5e",
   "metadata": {},
   "outputs": [],
   "source": [
    "import os, sys\n",
    "import paddle\n",
    "sys.path.append('/workspace/fnet_paddle/PaddleNLP')\n",
    "from paddlenlp.datasets import load_dataset"
   ]
  },
  {
   "cell_type": "code",
   "execution_count": 32,
   "id": "3e052963-ab2d-4bce-a129-f0ca94742e7a",
   "metadata": {},
   "outputs": [
    {
     "name": "stderr",
     "output_type": "stream",
     "text": [
      "INFO:paddle.utils.download:unique_endpoints {''}\n"
     ]
    }
   ],
   "source": [
    "test_ds = load_dataset(\"glue\", name=\"cola\", splits=(\"test\"))"
   ]
  },
  {
   "cell_type": "code",
   "execution_count": 33,
   "id": "1c12f9d4-c0c1-423d-b3a3-a0b0c692149e",
   "metadata": {},
   "outputs": [
    {
     "data": {
      "text/plain": [
       "1063"
      ]
     },
     "execution_count": 33,
     "metadata": {},
     "output_type": "execute_result"
    }
   ],
   "source": [
    "len(test_ds)"
   ]
  },
  {
   "cell_type": "code",
   "execution_count": 34,
   "id": "301e166c-4aa5-423c-b1fc-28500f993a56",
   "metadata": {},
   "outputs": [],
   "source": [
    "def convert_example(example,\n",
    "                    tokenizer,\n",
    "                    max_seq_length=512,\n",
    "                    is_test=False):\n",
    "    text = example[\"sentence\"]\n",
    "    text_pair = None\n",
    "    encoded_inputs = tokenizer(\n",
    "        text=text, text_pair=text_pair, max_seq_len=max_seq_length)\n",
    "    input_ids = encoded_inputs[\"input_ids\"]\n",
    "    token_type_ids = encoded_inputs[\"token_type_ids\"]\n",
    "\n",
    "    if is_test:\n",
    "        return input_ids, token_type_ids\n",
    "    label = np.array([example[\"labels\"]], dtype=\"int64\")\n",
    "    return input_ids, token_type_ids, label"
   ]
  },
  {
   "cell_type": "code",
   "execution_count": 35,
   "id": "c847d09b-f65d-4724-9fbd-c9beec204eca",
   "metadata": {},
   "outputs": [],
   "source": [
    "def create_dataloader(dataset,\n",
    "                      mode='train',\n",
    "                      batch_size=1,\n",
    "                      batchify_fn=None,\n",
    "                      trans_fn=None):\n",
    "    if trans_fn:\n",
    "        dataset = dataset.map(trans_fn)\n",
    "\n",
    "    shuffle = True if mode == 'train' else False\n",
    "    if mode == 'train':\n",
    "        batch_sampler = paddle.io.DistributedBatchSampler(\n",
    "            dataset, batch_size=batch_size, shuffle=shuffle)\n",
    "    else:\n",
    "        batch_sampler = paddle.io.BatchSampler(\n",
    "            dataset, batch_size=batch_size, shuffle=shuffle)\n",
    "\n",
    "    return paddle.io.DataLoader(\n",
    "        dataset=dataset,\n",
    "        batch_sampler=batch_sampler,\n",
    "        collate_fn=batchify_fn,\n",
    "        return_list=True)"
   ]
  },
  {
   "cell_type": "code",
   "execution_count": 36,
   "id": "1f8828db-4a87-4555-9b8f-01f597c35d0e",
   "metadata": {},
   "outputs": [],
   "source": [
    "import argparse\n",
    "import os\n",
    "\n",
    "import paddle\n",
    "import paddle.nn.functional as F\n",
    "import paddlenlp as ppnlp\n",
    "from paddlenlp.data import Tuple, Pad\n",
    "from functools import partial"
   ]
  },
  {
   "cell_type": "code",
   "execution_count": 37,
   "id": "f0ee1c49-e3b8-45fd-a050-e10045213d35",
   "metadata": {},
   "outputs": [],
   "source": [
    "parser = argparse.ArgumentParser()\n",
    "parser.add_argument(\"--params_path\", type=str, required=False, default=\"checkpoints/model_900/model_state.pdparams\", help=\"The path to model parameters to be loaded.\")\n",
    "parser.add_argument(\"--max_seq_length\", type=int, default=128, help=\"The maximum total input sequence length after tokenization. \"\n",
    "    \"Sequences longer than this will be truncated, sequences shorter will be padded.\")\n",
    "parser.add_argument(\"--batch_size\", type=int, default=32, help=\"Batch size per GPU/CPU for training.\")\n",
    "parser.add_argument('--device', choices=['cpu', 'gpu', 'xpu', 'npu'], default=\"gpu\", help=\"Select which device to train model, defaults to gpu.\")\n",
    "args = parser.parse_args([])"
   ]
  },
  {
   "cell_type": "code",
   "execution_count": 38,
   "id": "c5f4bfd3-d213-4d6d-baba-39af31dacad8",
   "metadata": {},
   "outputs": [],
   "source": [
    "args.params_path = 'checkpoints/model_1200/model_state.pdparams'"
   ]
  },
  {
   "cell_type": "code",
   "execution_count": 39,
   "id": "1099856c-1358-4863-b92f-79114df7170a",
   "metadata": {},
   "outputs": [],
   "source": [
    "fnet = ppnlp.transformers.FNetModel.from_pretrained('pretrained_model/paddle/large')\n",
    "model = ppnlp.transformers.FNetForSequenceClassification(fnet, num_classes=len(test_ds.label_list))\n",
    "tokenizer = ppnlp.transformers.FNetTokenizer.from_pretrained('fnet-large')"
   ]
  },
  {
   "cell_type": "code",
   "execution_count": 40,
   "id": "747dfe8a-bb96-474a-9bfa-a7730cf5c3ba",
   "metadata": {},
   "outputs": [],
   "source": [
    "if args.params_path and os.path.isfile(args.params_path):\n",
    "    state_dict = paddle.load(args.params_path)\n",
    "    model.set_dict(state_dict)\n",
    "    print(\"Loaded parameters from %s\" % args.params_path)"
   ]
  },
  {
   "cell_type": "code",
   "execution_count": 41,
   "id": "1b0bc5fd-e37d-4131-a944-8bc447c0b3ec",
   "metadata": {},
   "outputs": [],
   "source": [
    "trans_func = partial(\n",
    "    convert_example,\n",
    "    tokenizer=tokenizer,\n",
    "    max_seq_length=args.max_seq_length,\n",
    "    is_test=True)\n",
    "batchify_fn = lambda samples, fn=Tuple(\n",
    "    Pad(axis=0, pad_val=tokenizer.pad_token_id),  # input\n",
    "    Pad(axis=0, pad_val=tokenizer.pad_token_type_id),  # segment\n",
    "): [data for data in fn(samples)]\n",
    "\n",
    "test_data_loader = create_dataloader(\n",
    "    test_ds,\n",
    "    mode='test',\n",
    "    batch_size=args.batch_size,\n",
    "    batchify_fn=batchify_fn,\n",
    "    trans_fn=trans_func)"
   ]
  },
  {
   "cell_type": "code",
   "execution_count": 42,
   "id": "366c6655-9aa3-4f81-8a98-7687909d644b",
   "metadata": {},
   "outputs": [],
   "source": [
    "results = []\n",
    "model.eval()\n",
    "for batch in test_data_loader:\n",
    "    input_ids, token_type_ids = batch\n",
    "    logits = model(input_ids, token_type_ids)\n",
    "    probs = F.softmax(logits, axis=1)\n",
    "    idx = paddle.argmax(probs, axis=1).numpy()\n",
    "    idx = idx.tolist()\n",
    "    results.extend(idx)"
   ]
  },
  {
   "cell_type": "code",
   "execution_count": 43,
   "id": "69efeb32-935e-412c-b411-9fed8cf8bdf0",
   "metadata": {},
   "outputs": [
    {
     "data": {
      "text/plain": [
       "[1, 1, 1]"
      ]
     },
     "execution_count": 43,
     "metadata": {},
     "output_type": "execute_result"
    }
   ],
   "source": [
    "results[:3]"
   ]
  },
  {
   "cell_type": "code",
   "execution_count": 44,
   "id": "07a8b7a9-a944-4a88-9621-a9b4538d90ef",
   "metadata": {},
   "outputs": [],
   "source": [
    "import pandas as pd\n",
    "res_df = pd.DataFrame()"
   ]
  },
  {
   "cell_type": "code",
   "execution_count": 45,
   "id": "dfcb4069-de02-46b9-9dd6-95171434ae9b",
   "metadata": {},
   "outputs": [],
   "source": [
    "res_df['prediction'] = results\n",
    "res_df.index.name = 'index'"
   ]
  },
  {
   "cell_type": "code",
   "execution_count": 46,
   "id": "554e332a-a058-4728-b327-5a1d18acd121",
   "metadata": {},
   "outputs": [
    {
     "data": {
      "text/html": [
       "<div>\n",
       "<style scoped>\n",
       "    .dataframe tbody tr th:only-of-type {\n",
       "        vertical-align: middle;\n",
       "    }\n",
       "\n",
       "    .dataframe tbody tr th {\n",
       "        vertical-align: top;\n",
       "    }\n",
       "\n",
       "    .dataframe thead th {\n",
       "        text-align: right;\n",
       "    }\n",
       "</style>\n",
       "<table border=\"1\" class=\"dataframe\">\n",
       "  <thead>\n",
       "    <tr style=\"text-align: right;\">\n",
       "      <th></th>\n",
       "      <th>prediction</th>\n",
       "    </tr>\n",
       "    <tr>\n",
       "      <th>index</th>\n",
       "      <th></th>\n",
       "    </tr>\n",
       "  </thead>\n",
       "  <tbody>\n",
       "    <tr>\n",
       "      <th>0</th>\n",
       "      <td>1</td>\n",
       "    </tr>\n",
       "    <tr>\n",
       "      <th>1</th>\n",
       "      <td>1</td>\n",
       "    </tr>\n",
       "    <tr>\n",
       "      <th>2</th>\n",
       "      <td>1</td>\n",
       "    </tr>\n",
       "    <tr>\n",
       "      <th>3</th>\n",
       "      <td>1</td>\n",
       "    </tr>\n",
       "    <tr>\n",
       "      <th>4</th>\n",
       "      <td>1</td>\n",
       "    </tr>\n",
       "  </tbody>\n",
       "</table>\n",
       "</div>"
      ],
      "text/plain": [
       "       prediction\n",
       "index            \n",
       "0               1\n",
       "1               1\n",
       "2               1\n",
       "3               1\n",
       "4               1"
      ]
     },
     "execution_count": 46,
     "metadata": {},
     "output_type": "execute_result"
    }
   ],
   "source": [
    "res_df.head(5)"
   ]
  },
  {
   "cell_type": "code",
   "execution_count": 47,
   "id": "b9171615-a4c9-44d2-b391-8f622c26111c",
   "metadata": {},
   "outputs": [
    {
     "data": {
      "text/plain": [
       "1063"
      ]
     },
     "execution_count": 47,
     "metadata": {},
     "output_type": "execute_result"
    }
   ],
   "source": [
    "(res_df['prediction'] == 1).sum()"
   ]
  },
  {
   "cell_type": "code",
   "execution_count": 48,
   "id": "afc02c38-9755-407a-a699-9f8998667bcd",
   "metadata": {},
   "outputs": [],
   "source": [
    "res_df.to_csv('CoLA.tsv', sep='\\t')"
   ]
  },
  {
   "cell_type": "code",
   "execution_count": null,
   "id": "7795adfe-23b9-4405-bdf0-ca149fe8169c",
   "metadata": {},
   "outputs": [],
   "source": []
  }
 ],
 "metadata": {
  "kernelspec": {
   "display_name": "Python 3 (ipykernel)",
   "language": "python",
   "name": "python3"
  },
  "language_info": {
   "codemirror_mode": {
    "name": "ipython",
    "version": 3
   },
   "file_extension": ".py",
   "mimetype": "text/x-python",
   "name": "python",
   "nbconvert_exporter": "python",
   "pygments_lexer": "ipython3",
   "version": "3.8.5"
  }
 },
 "nbformat": 4,
 "nbformat_minor": 5
}
