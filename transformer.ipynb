{
 "cells": [
  {
   "cell_type": "code",
   "execution_count": 2,
   "id": "5e66b8ab-7c51-47ff-8704-1b97c6a4df62",
   "metadata": {},
   "outputs": [],
   "source": [
    "import sys\n",
    "# load transformer 源码\n",
    "sys.path.append('/workspace/transformers/src/')"
   ]
  },
  {
   "cell_type": "code",
   "execution_count": 3,
   "id": "4f985b1d-d6de-4994-ae33-7f69f0848648",
   "metadata": {},
   "outputs": [
    {
     "name": "stderr",
     "output_type": "stream",
     "text": [
      "Some weights of the model checkpoint at google/fnet-large were not used when initializing FNetForSequenceClassification: ['cls.predictions.decoder.weight', 'cls.predictions.transform.LayerNorm.bias', 'cls.predictions.transform.LayerNorm.weight', 'cls.predictions.transform.dense.bias', 'cls.predictions.decoder.bias', 'cls.seq_relationship.bias', 'cls.predictions.transform.dense.weight', 'cls.seq_relationship.weight', 'cls.predictions.bias']\n",
      "- This IS expected if you are initializing FNetForSequenceClassification from the checkpoint of a model trained on another task or with another architecture (e.g. initializing a BertForSequenceClassification model from a BertForPreTraining model).\n",
      "- This IS NOT expected if you are initializing FNetForSequenceClassification from the checkpoint of a model that you expect to be exactly identical (initializing a BertForSequenceClassification model from a BertForSequenceClassification model).\n",
      "Some weights of FNetForSequenceClassification were not initialized from the model checkpoint at google/fnet-large and are newly initialized: ['classifier.bias', 'classifier.weight']\n",
      "You should probably TRAIN this model on a down-stream task to be able to use it for predictions and inference.\n"
     ]
    }
   ],
   "source": [
    "from transformers import FNetForSequenceClassification, FNetTokenizer\n",
    "\n",
    "tokenizer = FNetTokenizer.from_pretrained(\"google/fnet-large\")\n",
    "model = FNetForSequenceClassification.from_pretrained(\"google/fnet-large\")"
   ]
  },
  {
   "cell_type": "code",
   "execution_count": 12,
   "id": "0e159c35-9607-44f9-ac11-015a2f90e436",
   "metadata": {},
   "outputs": [
    {
     "name": "stderr",
     "output_type": "stream",
     "text": [
      "Using the latest cached version of the module from /root/.cache/huggingface/modules/datasets_modules/datasets/glue/dacbe3125aa31d7f70367a07a8a9e72a5a0bfeb5fc42e75c9db75b96da6053ad (last modified on Mon Nov 29 09:44:41 2021) since it couldn't be found locally at glue., or remotely on the Hugging Face Hub.\n",
      "Reusing dataset glue (/root/.cache/huggingface/datasets/glue/cola/1.0.0/dacbe3125aa31d7f70367a07a8a9e72a5a0bfeb5fc42e75c9db75b96da6053ad)\n"
     ]
    },
    {
     "data": {
      "application/vnd.jupyter.widget-view+json": {
       "model_id": "d3dcc4579f904ef985675ecc96e4d301",
       "version_major": 2,
       "version_minor": 0
      },
      "text/plain": [
       "  0%|          | 0/3 [00:00<?, ?it/s]"
      ]
     },
     "metadata": {},
     "output_type": "display_data"
    }
   ],
   "source": [
    "from datasets import load_dataset\n",
    "train_ds, dev_ds, test_ds = load_dataset('glue', 'cola', split=['train', 'validation', 'test'])"
   ]
  },
  {
   "cell_type": "code",
   "execution_count": 13,
   "id": "02dcab72-f5b4-40ab-90cc-04d2e03a117e",
   "metadata": {},
   "outputs": [
    {
     "data": {
      "text/plain": [
       "({'sentence': [\"Our friends won't buy this analysis, let alone the next one we propose.\",\n",
       "   \"One more pseudo generalization and I'm giving up.\",\n",
       "   \"One more pseudo generalization or I'm giving up.\"],\n",
       "  'label': [1, 1, 1],\n",
       "  'idx': [0, 1, 2]},\n",
       " 8551)"
      ]
     },
     "execution_count": 13,
     "metadata": {},
     "output_type": "execute_result"
    }
   ],
   "source": [
    "train_ds[:3], len(train_ds)"
   ]
  },
  {
   "cell_type": "code",
   "execution_count": 14,
   "id": "77550744-0c4d-4ead-ad66-1cf7e56090e8",
   "metadata": {},
   "outputs": [
    {
     "data": {
      "text/plain": [
       "({'sentence': ['The sailors rode the breeze clear of the rocks.',\n",
       "   'The weights made the rope stretch over the pulley.',\n",
       "   'The mechanical doll wriggled itself loose.'],\n",
       "  'label': [1, 1, 1],\n",
       "  'idx': [0, 1, 2]},\n",
       " 1043)"
      ]
     },
     "execution_count": 14,
     "metadata": {},
     "output_type": "execute_result"
    }
   ],
   "source": [
    "dev_ds[:3], len(dev_ds)"
   ]
  },
  {
   "cell_type": "code",
   "execution_count": 15,
   "id": "4429a4d0-3b3f-418b-bd2e-0e62c5cfd485",
   "metadata": {},
   "outputs": [
    {
     "data": {
      "text/plain": [
       "({'sentence': ['Bill whistled past the house.',\n",
       "   'The car honked its way down the road.',\n",
       "   'Bill pushed Harry off the sofa.'],\n",
       "  'label': [-1, -1, -1],\n",
       "  'idx': [0, 1, 2]},\n",
       " 1063)"
      ]
     },
     "execution_count": 15,
     "metadata": {},
     "output_type": "execute_result"
    }
   ],
   "source": [
    "test_ds[:3], len(test_ds)"
   ]
  },
  {
   "cell_type": "code",
   "execution_count": null,
   "id": "7d0f8985-6a72-44b6-abd1-3f36e4ebdd14",
   "metadata": {},
   "outputs": [],
   "source": []
  }
 ],
 "metadata": {
  "kernelspec": {
   "display_name": "Python 3 (ipykernel)",
   "language": "python",
   "name": "python3"
  },
  "language_info": {
   "codemirror_mode": {
    "name": "ipython",
    "version": 3
   },
   "file_extension": ".py",
   "mimetype": "text/x-python",
   "name": "python",
   "nbconvert_exporter": "python",
   "pygments_lexer": "ipython3",
   "version": "3.8.5"
  }
 },
 "nbformat": 4,
 "nbformat_minor": 5
}
