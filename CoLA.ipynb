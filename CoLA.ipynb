{
 "cells": [
  {
   "cell_type": "code",
   "execution_count": 6,
   "id": "a2b65876-a093-472b-b6e4-bf0dc578be1c",
   "metadata": {},
   "outputs": [],
   "source": [
    "import os, sys\n",
    "import paddle\n",
    "sys.path.append('/workspace/fnet_paddle/PaddleNLP')\n",
    "from paddlenlp.datasets import load_dataset"
   ]
  },
  {
   "cell_type": "code",
   "execution_count": 9,
   "id": "a054e2f7-b649-4323-a237-da478d0982d6",
   "metadata": {},
   "outputs": [
    {
     "name": "stderr",
     "output_type": "stream",
     "text": [
      "INFO:paddle.utils.download:unique_endpoints {''}\n",
      "INFO:paddle.utils.download:unique_endpoints {''}\n",
      "INFO:paddle.utils.download:Downloading CoLA.zip from https://dataset.bj.bcebos.com/glue/CoLA.zip\n",
      "100%|██████████| 369/369 [00:00<00:00, 392.95it/s]\n",
      "INFO:paddle.utils.download:File /root/.paddlenlp/datasets/Glue/CoLA.zip md5 checking...\n",
      "INFO:paddle.utils.download:Decompressing /root/.paddlenlp/datasets/Glue/CoLA.zip...\n"
     ]
    }
   ],
   "source": [
    "train_ds, dev_ds, test_ds = load_dataset(\"glue\", name=\"cola\", splits=(\"train\", \"dev\", \"test\"))"
   ]
  },
  {
   "cell_type": "code",
   "execution_count": 13,
   "id": "33540c1f-1d78-49e0-b971-4e20b2778d74",
   "metadata": {},
   "outputs": [
    {
     "data": {
      "text/plain": [
       "([{'sentence': \"Our friends won't buy this analysis, let alone the next one we propose.\",\n",
       "   'labels': 1},\n",
       "  {'sentence': \"One more pseudo generalization and I'm giving up.\",\n",
       "   'labels': 1},\n",
       "  {'sentence': \"One more pseudo generalization or I'm giving up.\",\n",
       "   'labels': 1}],\n",
       " [{'sentence': 'The sailors rode the breeze clear of the rocks.', 'labels': 1},\n",
       "  {'sentence': 'The weights made the rope stretch over the pulley.',\n",
       "   'labels': 1},\n",
       "  {'sentence': 'The mechanical doll wriggled itself loose.', 'labels': 1}],\n",
       " [{'sentence': 'Bill whistled past the house.'},\n",
       "  {'sentence': 'The car honked its way down the road.'},\n",
       "  {'sentence': 'Bill pushed Harry off the sofa.'}])"
      ]
     },
     "execution_count": 13,
     "metadata": {},
     "output_type": "execute_result"
    }
   ],
   "source": [
    "train_ds[:3], dev_ds[:3], test_ds[:3]"
   ]
  },
  {
   "cell_type": "code",
   "execution_count": null,
   "id": "14e4df59-fb33-4122-8358-f7e15137cd18",
   "metadata": {},
   "outputs": [],
   "source": []
  }
 ],
 "metadata": {
  "kernelspec": {
   "display_name": "Python 3 (ipykernel)",
   "language": "python",
   "name": "python3"
  },
  "language_info": {
   "codemirror_mode": {
    "name": "ipython",
    "version": 3
   },
   "file_extension": ".py",
   "mimetype": "text/x-python",
   "name": "python",
   "nbconvert_exporter": "python",
   "pygments_lexer": "ipython3",
   "version": "3.8.5"
  }
 },
 "nbformat": 4,
 "nbformat_minor": 5
}
