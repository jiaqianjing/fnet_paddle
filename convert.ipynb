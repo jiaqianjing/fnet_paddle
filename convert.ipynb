{
 "cells": [
  {
   "cell_type": "markdown",
   "id": "e48d0942-3754-4b35-ba64-6958e2297121",
   "metadata": {},
   "source": [
    "## 导入 huggingface model"
   ]
  },
  {
   "cell_type": "code",
   "execution_count": 4,
   "id": "d2e7daae-f2d5-40be-88ce-1b87058976a8",
   "metadata": {},
   "outputs": [
    {
     "name": "stderr",
     "output_type": "stream",
     "text": [
      "Some weights of the model checkpoint at google/fnet-large were not used when initializing FNetModel: ['cls.predictions.decoder.bias', 'cls.predictions.transform.dense.weight', 'cls.predictions.transform.LayerNorm.bias', 'cls.predictions.decoder.weight', 'cls.predictions.transform.LayerNorm.weight', 'cls.predictions.transform.dense.bias', 'cls.predictions.bias', 'cls.seq_relationship.bias', 'cls.seq_relationship.weight']\n",
      "- This IS expected if you are initializing FNetModel from the checkpoint of a model trained on another task or with another architecture (e.g. initializing a BertForSequenceClassification model from a BertForPreTraining model).\n",
      "- This IS NOT expected if you are initializing FNetModel from the checkpoint of a model that you expect to be exactly identical (initializing a BertForSequenceClassification model from a BertForSequenceClassification model).\n"
     ]
    }
   ],
   "source": [
    "from transformers import FNetTokenizer, FNetModel\n",
    "tokenizer = FNetTokenizer.from_pretrained(\"google/fnet-large\")\n",
    "model = FNetModel.from_pretrained(\"google/fnet-large\")\n",
    "text = \"Replace me by any text you'd like.\"\n",
    "encoded_input = tokenizer(text, return_tensors='pt', padding='max_length', truncation=True, max_length=512)\n",
    "output = model(**encoded_input)"
   ]
  },
  {
   "cell_type": "code",
   "execution_count": 16,
   "id": "3c4b089b-3c29-4c36-85bc-4658440f12f5",
   "metadata": {},
   "outputs": [
    {
     "data": {
      "text/plain": [
       "(torch.Size([1, 512, 1024]), torch.Size([1, 1024]))"
      ]
     },
     "execution_count": 16,
     "metadata": {},
     "output_type": "execute_result"
    }
   ],
   "source": [
    "output.last_hidden_state.shape, output.pooler_output.shape"
   ]
  },
  {
   "cell_type": "code",
   "execution_count": 14,
   "id": "9ddc3dec-7778-4f88-a972-54915e408294",
   "metadata": {},
   "outputs": [],
   "source": [
    "torch_large_model_path = 'pretrained_model/torch/large'\n",
    "model.save_pretrained(torch_large_model_path)\n",
    "tokenizer.save_pretrained(torch_large_model_path)"
   ]
  },
  {
   "cell_type": "code",
   "execution_count": null,
   "id": "61f9bdee-5107-4fe0-8dfd-2a9aa6181776",
   "metadata": {},
   "outputs": [],
   "source": []
  }
 ],
 "metadata": {
  "kernelspec": {
   "display_name": "Python 3 (ipykernel)",
   "language": "python",
   "name": "python3"
  },
  "language_info": {
   "codemirror_mode": {
    "name": "ipython",
    "version": 3
   },
   "file_extension": ".py",
   "mimetype": "text/x-python",
   "name": "python",
   "nbconvert_exporter": "python",
   "pygments_lexer": "ipython3",
   "version": "3.8.5"
  }
 },
 "nbformat": 4,
 "nbformat_minor": 5
}
