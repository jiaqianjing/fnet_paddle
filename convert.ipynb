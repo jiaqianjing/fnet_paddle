{
 "cells": [
  {
   "cell_type": "markdown",
   "id": "e48d0942-3754-4b35-ba64-6958e2297121",
   "metadata": {},
   "source": [
    "## 导入 huggingface model"
   ]
  },
  {
   "cell_type": "markdown",
   "id": "e8fb7dbf-1a0c-4fd9-834f-5973b2a8cdbc",
   "metadata": {},
   "source": [
    "### base"
   ]
  },
  {
   "cell_type": "code",
   "execution_count": 21,
   "id": "10c5f224-1b41-4ea4-acc9-a3c27abe2f14",
   "metadata": {},
   "outputs": [
    {
     "name": "stderr",
     "output_type": "stream",
     "text": [
      "Some weights of the model checkpoint at google/fnet-base were not used when initializing FNetModel: ['cls.seq_relationship.weight', 'cls.predictions.decoder.weight', 'cls.predictions.transform.dense.weight', 'cls.predictions.transform.LayerNorm.bias', 'cls.predictions.transform.LayerNorm.weight', 'cls.predictions.bias', 'cls.seq_relationship.bias', 'cls.predictions.transform.dense.bias', 'cls.predictions.decoder.bias']\n",
      "- This IS expected if you are initializing FNetModel from the checkpoint of a model trained on another task or with another architecture (e.g. initializing a BertForSequenceClassification model from a BertForPreTraining model).\n",
      "- This IS NOT expected if you are initializing FNetModel from the checkpoint of a model that you expect to be exactly identical (initializing a BertForSequenceClassification model from a BertForSequenceClassification model).\n"
     ]
    }
   ],
   "source": [
    "from transformers import FNetTokenizer, FNetModel\n",
    "tokenizer = FNetTokenizer.from_pretrained(\"google/fnet-base\")\n",
    "model = FNetModel.from_pretrained(\"google/fnet-base\")\n",
    "text = \"Replace me by any text you'd like.\"\n",
    "encoded_input = tokenizer(text, return_tensors='pt', padding='max_length', truncation=True, max_length=512)\n",
    "output = model(**encoded_input)"
   ]
  },
  {
   "cell_type": "code",
   "execution_count": 22,
   "id": "7df0f496-f386-4f36-b7d2-ae89b7711c99",
   "metadata": {},
   "outputs": [
    {
     "data": {
      "text/plain": [
       "('pretrained_model/torch/base/tokenizer_config.json',\n",
       " 'pretrained_model/torch/base/special_tokens_map.json',\n",
       " 'pretrained_model/torch/base/spiece.model',\n",
       " 'pretrained_model/torch/base/added_tokens.json')"
      ]
     },
     "execution_count": 22,
     "metadata": {},
     "output_type": "execute_result"
    }
   ],
   "source": [
    "# save base model\n",
    "torch_large_model_path = 'pretrained_model/torch/base'\n",
    "model.save_pretrained(torch_large_model_path)\n",
    "tokenizer.save_pretrained(torch_large_model_path)"
   ]
  },
  {
   "cell_type": "markdown",
   "id": "7e25a31a-5912-47bd-81a8-9b28d69b23ab",
   "metadata": {},
   "source": [
    "### large"
   ]
  },
  {
   "cell_type": "code",
   "execution_count": 23,
   "id": "d2e7daae-f2d5-40be-88ce-1b87058976a8",
   "metadata": {},
   "outputs": [
    {
     "name": "stderr",
     "output_type": "stream",
     "text": [
      "Some weights of the model checkpoint at google/fnet-large were not used when initializing FNetModel: ['cls.seq_relationship.weight', 'cls.predictions.decoder.weight', 'cls.predictions.transform.dense.weight', 'cls.predictions.transform.LayerNorm.bias', 'cls.predictions.transform.LayerNorm.weight', 'cls.predictions.bias', 'cls.seq_relationship.bias', 'cls.predictions.transform.dense.bias', 'cls.predictions.decoder.bias']\n",
      "- This IS expected if you are initializing FNetModel from the checkpoint of a model trained on another task or with another architecture (e.g. initializing a BertForSequenceClassification model from a BertForPreTraining model).\n",
      "- This IS NOT expected if you are initializing FNetModel from the checkpoint of a model that you expect to be exactly identical (initializing a BertForSequenceClassification model from a BertForSequenceClassification model).\n"
     ]
    },
    {
     "data": {
      "text/plain": [
       "(torch.Size([1, 512, 1024]), torch.Size([1, 1024]))"
      ]
     },
     "execution_count": 23,
     "metadata": {},
     "output_type": "execute_result"
    }
   ],
   "source": [
    "from transformers import FNetTokenizer, FNetModel\n",
    "tokenizer = FNetTokenizer.from_pretrained(\"google/fnet-large\")\n",
    "model = FNetModel.from_pretrained(\"google/fnet-large\")\n",
    "text = \"Replace me by any text you'd like.\"\n",
    "encoded_input = tokenizer(text, return_tensors='pt', padding='max_length', truncation=True, max_length=512)\n",
    "output = model(**encoded_input)\n",
    "output.last_hidden_state.shape, output.pooler_output.shape"
   ]
  },
  {
   "cell_type": "code",
   "execution_count": 24,
   "id": "9ddc3dec-7778-4f88-a972-54915e408294",
   "metadata": {},
   "outputs": [
    {
     "data": {
      "text/plain": [
       "('pretrained_model/torch/large/tokenizer_config.json',\n",
       " 'pretrained_model/torch/large/special_tokens_map.json',\n",
       " 'pretrained_model/torch/large/spiece.model',\n",
       " 'pretrained_model/torch/large/added_tokens.json')"
      ]
     },
     "execution_count": 24,
     "metadata": {},
     "output_type": "execute_result"
    }
   ],
   "source": [
    "# save large model\n",
    "torch_large_model_path = 'pretrained_model/torch/large'\n",
    "model.save_pretrained(torch_large_model_path)\n",
    "tokenizer.save_pretrained(torch_large_model_path)"
   ]
  },
  {
   "cell_type": "code",
   "execution_count": 25,
   "id": "e3f11078-76c9-471a-8a40-fc5e7b3061f7",
   "metadata": {},
   "outputs": [
    {
     "data": {
      "text/plain": [
       "FNetModel(\n",
       "  (embeddings): FNetEmbeddings(\n",
       "    (word_embeddings): Embedding(32000, 1024, padding_idx=3)\n",
       "    (position_embeddings): Embedding(512, 1024)\n",
       "    (token_type_embeddings): Embedding(4, 1024)\n",
       "    (LayerNorm): LayerNorm((1024,), eps=1e-12, elementwise_affine=True)\n",
       "    (projection): Linear(in_features=1024, out_features=1024, bias=True)\n",
       "    (dropout): Dropout(p=0.1, inplace=False)\n",
       "  )\n",
       "  (encoder): FNetEncoder(\n",
       "    (layer): ModuleList(\n",
       "      (0): FNetLayer(\n",
       "        (fourier): FNetFourierTransform(\n",
       "          (self): FNetBasicFourierTransform()\n",
       "          (output): FNetBasicOutput(\n",
       "            (LayerNorm): LayerNorm((1024,), eps=1e-12, elementwise_affine=True)\n",
       "          )\n",
       "        )\n",
       "        (intermediate): FNetIntermediate(\n",
       "          (dense): Linear(in_features=1024, out_features=4096, bias=True)\n",
       "        )\n",
       "        (output): FNetOutput(\n",
       "          (dense): Linear(in_features=4096, out_features=1024, bias=True)\n",
       "          (LayerNorm): LayerNorm((1024,), eps=1e-12, elementwise_affine=True)\n",
       "          (dropout): Dropout(p=0.1, inplace=False)\n",
       "        )\n",
       "      )\n",
       "      (1): FNetLayer(\n",
       "        (fourier): FNetFourierTransform(\n",
       "          (self): FNetBasicFourierTransform()\n",
       "          (output): FNetBasicOutput(\n",
       "            (LayerNorm): LayerNorm((1024,), eps=1e-12, elementwise_affine=True)\n",
       "          )\n",
       "        )\n",
       "        (intermediate): FNetIntermediate(\n",
       "          (dense): Linear(in_features=1024, out_features=4096, bias=True)\n",
       "        )\n",
       "        (output): FNetOutput(\n",
       "          (dense): Linear(in_features=4096, out_features=1024, bias=True)\n",
       "          (LayerNorm): LayerNorm((1024,), eps=1e-12, elementwise_affine=True)\n",
       "          (dropout): Dropout(p=0.1, inplace=False)\n",
       "        )\n",
       "      )\n",
       "      (2): FNetLayer(\n",
       "        (fourier): FNetFourierTransform(\n",
       "          (self): FNetBasicFourierTransform()\n",
       "          (output): FNetBasicOutput(\n",
       "            (LayerNorm): LayerNorm((1024,), eps=1e-12, elementwise_affine=True)\n",
       "          )\n",
       "        )\n",
       "        (intermediate): FNetIntermediate(\n",
       "          (dense): Linear(in_features=1024, out_features=4096, bias=True)\n",
       "        )\n",
       "        (output): FNetOutput(\n",
       "          (dense): Linear(in_features=4096, out_features=1024, bias=True)\n",
       "          (LayerNorm): LayerNorm((1024,), eps=1e-12, elementwise_affine=True)\n",
       "          (dropout): Dropout(p=0.1, inplace=False)\n",
       "        )\n",
       "      )\n",
       "      (3): FNetLayer(\n",
       "        (fourier): FNetFourierTransform(\n",
       "          (self): FNetBasicFourierTransform()\n",
       "          (output): FNetBasicOutput(\n",
       "            (LayerNorm): LayerNorm((1024,), eps=1e-12, elementwise_affine=True)\n",
       "          )\n",
       "        )\n",
       "        (intermediate): FNetIntermediate(\n",
       "          (dense): Linear(in_features=1024, out_features=4096, bias=True)\n",
       "        )\n",
       "        (output): FNetOutput(\n",
       "          (dense): Linear(in_features=4096, out_features=1024, bias=True)\n",
       "          (LayerNorm): LayerNorm((1024,), eps=1e-12, elementwise_affine=True)\n",
       "          (dropout): Dropout(p=0.1, inplace=False)\n",
       "        )\n",
       "      )\n",
       "      (4): FNetLayer(\n",
       "        (fourier): FNetFourierTransform(\n",
       "          (self): FNetBasicFourierTransform()\n",
       "          (output): FNetBasicOutput(\n",
       "            (LayerNorm): LayerNorm((1024,), eps=1e-12, elementwise_affine=True)\n",
       "          )\n",
       "        )\n",
       "        (intermediate): FNetIntermediate(\n",
       "          (dense): Linear(in_features=1024, out_features=4096, bias=True)\n",
       "        )\n",
       "        (output): FNetOutput(\n",
       "          (dense): Linear(in_features=4096, out_features=1024, bias=True)\n",
       "          (LayerNorm): LayerNorm((1024,), eps=1e-12, elementwise_affine=True)\n",
       "          (dropout): Dropout(p=0.1, inplace=False)\n",
       "        )\n",
       "      )\n",
       "      (5): FNetLayer(\n",
       "        (fourier): FNetFourierTransform(\n",
       "          (self): FNetBasicFourierTransform()\n",
       "          (output): FNetBasicOutput(\n",
       "            (LayerNorm): LayerNorm((1024,), eps=1e-12, elementwise_affine=True)\n",
       "          )\n",
       "        )\n",
       "        (intermediate): FNetIntermediate(\n",
       "          (dense): Linear(in_features=1024, out_features=4096, bias=True)\n",
       "        )\n",
       "        (output): FNetOutput(\n",
       "          (dense): Linear(in_features=4096, out_features=1024, bias=True)\n",
       "          (LayerNorm): LayerNorm((1024,), eps=1e-12, elementwise_affine=True)\n",
       "          (dropout): Dropout(p=0.1, inplace=False)\n",
       "        )\n",
       "      )\n",
       "      (6): FNetLayer(\n",
       "        (fourier): FNetFourierTransform(\n",
       "          (self): FNetBasicFourierTransform()\n",
       "          (output): FNetBasicOutput(\n",
       "            (LayerNorm): LayerNorm((1024,), eps=1e-12, elementwise_affine=True)\n",
       "          )\n",
       "        )\n",
       "        (intermediate): FNetIntermediate(\n",
       "          (dense): Linear(in_features=1024, out_features=4096, bias=True)\n",
       "        )\n",
       "        (output): FNetOutput(\n",
       "          (dense): Linear(in_features=4096, out_features=1024, bias=True)\n",
       "          (LayerNorm): LayerNorm((1024,), eps=1e-12, elementwise_affine=True)\n",
       "          (dropout): Dropout(p=0.1, inplace=False)\n",
       "        )\n",
       "      )\n",
       "      (7): FNetLayer(\n",
       "        (fourier): FNetFourierTransform(\n",
       "          (self): FNetBasicFourierTransform()\n",
       "          (output): FNetBasicOutput(\n",
       "            (LayerNorm): LayerNorm((1024,), eps=1e-12, elementwise_affine=True)\n",
       "          )\n",
       "        )\n",
       "        (intermediate): FNetIntermediate(\n",
       "          (dense): Linear(in_features=1024, out_features=4096, bias=True)\n",
       "        )\n",
       "        (output): FNetOutput(\n",
       "          (dense): Linear(in_features=4096, out_features=1024, bias=True)\n",
       "          (LayerNorm): LayerNorm((1024,), eps=1e-12, elementwise_affine=True)\n",
       "          (dropout): Dropout(p=0.1, inplace=False)\n",
       "        )\n",
       "      )\n",
       "      (8): FNetLayer(\n",
       "        (fourier): FNetFourierTransform(\n",
       "          (self): FNetBasicFourierTransform()\n",
       "          (output): FNetBasicOutput(\n",
       "            (LayerNorm): LayerNorm((1024,), eps=1e-12, elementwise_affine=True)\n",
       "          )\n",
       "        )\n",
       "        (intermediate): FNetIntermediate(\n",
       "          (dense): Linear(in_features=1024, out_features=4096, bias=True)\n",
       "        )\n",
       "        (output): FNetOutput(\n",
       "          (dense): Linear(in_features=4096, out_features=1024, bias=True)\n",
       "          (LayerNorm): LayerNorm((1024,), eps=1e-12, elementwise_affine=True)\n",
       "          (dropout): Dropout(p=0.1, inplace=False)\n",
       "        )\n",
       "      )\n",
       "      (9): FNetLayer(\n",
       "        (fourier): FNetFourierTransform(\n",
       "          (self): FNetBasicFourierTransform()\n",
       "          (output): FNetBasicOutput(\n",
       "            (LayerNorm): LayerNorm((1024,), eps=1e-12, elementwise_affine=True)\n",
       "          )\n",
       "        )\n",
       "        (intermediate): FNetIntermediate(\n",
       "          (dense): Linear(in_features=1024, out_features=4096, bias=True)\n",
       "        )\n",
       "        (output): FNetOutput(\n",
       "          (dense): Linear(in_features=4096, out_features=1024, bias=True)\n",
       "          (LayerNorm): LayerNorm((1024,), eps=1e-12, elementwise_affine=True)\n",
       "          (dropout): Dropout(p=0.1, inplace=False)\n",
       "        )\n",
       "      )\n",
       "      (10): FNetLayer(\n",
       "        (fourier): FNetFourierTransform(\n",
       "          (self): FNetBasicFourierTransform()\n",
       "          (output): FNetBasicOutput(\n",
       "            (LayerNorm): LayerNorm((1024,), eps=1e-12, elementwise_affine=True)\n",
       "          )\n",
       "        )\n",
       "        (intermediate): FNetIntermediate(\n",
       "          (dense): Linear(in_features=1024, out_features=4096, bias=True)\n",
       "        )\n",
       "        (output): FNetOutput(\n",
       "          (dense): Linear(in_features=4096, out_features=1024, bias=True)\n",
       "          (LayerNorm): LayerNorm((1024,), eps=1e-12, elementwise_affine=True)\n",
       "          (dropout): Dropout(p=0.1, inplace=False)\n",
       "        )\n",
       "      )\n",
       "      (11): FNetLayer(\n",
       "        (fourier): FNetFourierTransform(\n",
       "          (self): FNetBasicFourierTransform()\n",
       "          (output): FNetBasicOutput(\n",
       "            (LayerNorm): LayerNorm((1024,), eps=1e-12, elementwise_affine=True)\n",
       "          )\n",
       "        )\n",
       "        (intermediate): FNetIntermediate(\n",
       "          (dense): Linear(in_features=1024, out_features=4096, bias=True)\n",
       "        )\n",
       "        (output): FNetOutput(\n",
       "          (dense): Linear(in_features=4096, out_features=1024, bias=True)\n",
       "          (LayerNorm): LayerNorm((1024,), eps=1e-12, elementwise_affine=True)\n",
       "          (dropout): Dropout(p=0.1, inplace=False)\n",
       "        )\n",
       "      )\n",
       "      (12): FNetLayer(\n",
       "        (fourier): FNetFourierTransform(\n",
       "          (self): FNetBasicFourierTransform()\n",
       "          (output): FNetBasicOutput(\n",
       "            (LayerNorm): LayerNorm((1024,), eps=1e-12, elementwise_affine=True)\n",
       "          )\n",
       "        )\n",
       "        (intermediate): FNetIntermediate(\n",
       "          (dense): Linear(in_features=1024, out_features=4096, bias=True)\n",
       "        )\n",
       "        (output): FNetOutput(\n",
       "          (dense): Linear(in_features=4096, out_features=1024, bias=True)\n",
       "          (LayerNorm): LayerNorm((1024,), eps=1e-12, elementwise_affine=True)\n",
       "          (dropout): Dropout(p=0.1, inplace=False)\n",
       "        )\n",
       "      )\n",
       "      (13): FNetLayer(\n",
       "        (fourier): FNetFourierTransform(\n",
       "          (self): FNetBasicFourierTransform()\n",
       "          (output): FNetBasicOutput(\n",
       "            (LayerNorm): LayerNorm((1024,), eps=1e-12, elementwise_affine=True)\n",
       "          )\n",
       "        )\n",
       "        (intermediate): FNetIntermediate(\n",
       "          (dense): Linear(in_features=1024, out_features=4096, bias=True)\n",
       "        )\n",
       "        (output): FNetOutput(\n",
       "          (dense): Linear(in_features=4096, out_features=1024, bias=True)\n",
       "          (LayerNorm): LayerNorm((1024,), eps=1e-12, elementwise_affine=True)\n",
       "          (dropout): Dropout(p=0.1, inplace=False)\n",
       "        )\n",
       "      )\n",
       "      (14): FNetLayer(\n",
       "        (fourier): FNetFourierTransform(\n",
       "          (self): FNetBasicFourierTransform()\n",
       "          (output): FNetBasicOutput(\n",
       "            (LayerNorm): LayerNorm((1024,), eps=1e-12, elementwise_affine=True)\n",
       "          )\n",
       "        )\n",
       "        (intermediate): FNetIntermediate(\n",
       "          (dense): Linear(in_features=1024, out_features=4096, bias=True)\n",
       "        )\n",
       "        (output): FNetOutput(\n",
       "          (dense): Linear(in_features=4096, out_features=1024, bias=True)\n",
       "          (LayerNorm): LayerNorm((1024,), eps=1e-12, elementwise_affine=True)\n",
       "          (dropout): Dropout(p=0.1, inplace=False)\n",
       "        )\n",
       "      )\n",
       "      (15): FNetLayer(\n",
       "        (fourier): FNetFourierTransform(\n",
       "          (self): FNetBasicFourierTransform()\n",
       "          (output): FNetBasicOutput(\n",
       "            (LayerNorm): LayerNorm((1024,), eps=1e-12, elementwise_affine=True)\n",
       "          )\n",
       "        )\n",
       "        (intermediate): FNetIntermediate(\n",
       "          (dense): Linear(in_features=1024, out_features=4096, bias=True)\n",
       "        )\n",
       "        (output): FNetOutput(\n",
       "          (dense): Linear(in_features=4096, out_features=1024, bias=True)\n",
       "          (LayerNorm): LayerNorm((1024,), eps=1e-12, elementwise_affine=True)\n",
       "          (dropout): Dropout(p=0.1, inplace=False)\n",
       "        )\n",
       "      )\n",
       "      (16): FNetLayer(\n",
       "        (fourier): FNetFourierTransform(\n",
       "          (self): FNetBasicFourierTransform()\n",
       "          (output): FNetBasicOutput(\n",
       "            (LayerNorm): LayerNorm((1024,), eps=1e-12, elementwise_affine=True)\n",
       "          )\n",
       "        )\n",
       "        (intermediate): FNetIntermediate(\n",
       "          (dense): Linear(in_features=1024, out_features=4096, bias=True)\n",
       "        )\n",
       "        (output): FNetOutput(\n",
       "          (dense): Linear(in_features=4096, out_features=1024, bias=True)\n",
       "          (LayerNorm): LayerNorm((1024,), eps=1e-12, elementwise_affine=True)\n",
       "          (dropout): Dropout(p=0.1, inplace=False)\n",
       "        )\n",
       "      )\n",
       "      (17): FNetLayer(\n",
       "        (fourier): FNetFourierTransform(\n",
       "          (self): FNetBasicFourierTransform()\n",
       "          (output): FNetBasicOutput(\n",
       "            (LayerNorm): LayerNorm((1024,), eps=1e-12, elementwise_affine=True)\n",
       "          )\n",
       "        )\n",
       "        (intermediate): FNetIntermediate(\n",
       "          (dense): Linear(in_features=1024, out_features=4096, bias=True)\n",
       "        )\n",
       "        (output): FNetOutput(\n",
       "          (dense): Linear(in_features=4096, out_features=1024, bias=True)\n",
       "          (LayerNorm): LayerNorm((1024,), eps=1e-12, elementwise_affine=True)\n",
       "          (dropout): Dropout(p=0.1, inplace=False)\n",
       "        )\n",
       "      )\n",
       "      (18): FNetLayer(\n",
       "        (fourier): FNetFourierTransform(\n",
       "          (self): FNetBasicFourierTransform()\n",
       "          (output): FNetBasicOutput(\n",
       "            (LayerNorm): LayerNorm((1024,), eps=1e-12, elementwise_affine=True)\n",
       "          )\n",
       "        )\n",
       "        (intermediate): FNetIntermediate(\n",
       "          (dense): Linear(in_features=1024, out_features=4096, bias=True)\n",
       "        )\n",
       "        (output): FNetOutput(\n",
       "          (dense): Linear(in_features=4096, out_features=1024, bias=True)\n",
       "          (LayerNorm): LayerNorm((1024,), eps=1e-12, elementwise_affine=True)\n",
       "          (dropout): Dropout(p=0.1, inplace=False)\n",
       "        )\n",
       "      )\n",
       "      (19): FNetLayer(\n",
       "        (fourier): FNetFourierTransform(\n",
       "          (self): FNetBasicFourierTransform()\n",
       "          (output): FNetBasicOutput(\n",
       "            (LayerNorm): LayerNorm((1024,), eps=1e-12, elementwise_affine=True)\n",
       "          )\n",
       "        )\n",
       "        (intermediate): FNetIntermediate(\n",
       "          (dense): Linear(in_features=1024, out_features=4096, bias=True)\n",
       "        )\n",
       "        (output): FNetOutput(\n",
       "          (dense): Linear(in_features=4096, out_features=1024, bias=True)\n",
       "          (LayerNorm): LayerNorm((1024,), eps=1e-12, elementwise_affine=True)\n",
       "          (dropout): Dropout(p=0.1, inplace=False)\n",
       "        )\n",
       "      )\n",
       "      (20): FNetLayer(\n",
       "        (fourier): FNetFourierTransform(\n",
       "          (self): FNetBasicFourierTransform()\n",
       "          (output): FNetBasicOutput(\n",
       "            (LayerNorm): LayerNorm((1024,), eps=1e-12, elementwise_affine=True)\n",
       "          )\n",
       "        )\n",
       "        (intermediate): FNetIntermediate(\n",
       "          (dense): Linear(in_features=1024, out_features=4096, bias=True)\n",
       "        )\n",
       "        (output): FNetOutput(\n",
       "          (dense): Linear(in_features=4096, out_features=1024, bias=True)\n",
       "          (LayerNorm): LayerNorm((1024,), eps=1e-12, elementwise_affine=True)\n",
       "          (dropout): Dropout(p=0.1, inplace=False)\n",
       "        )\n",
       "      )\n",
       "      (21): FNetLayer(\n",
       "        (fourier): FNetFourierTransform(\n",
       "          (self): FNetBasicFourierTransform()\n",
       "          (output): FNetBasicOutput(\n",
       "            (LayerNorm): LayerNorm((1024,), eps=1e-12, elementwise_affine=True)\n",
       "          )\n",
       "        )\n",
       "        (intermediate): FNetIntermediate(\n",
       "          (dense): Linear(in_features=1024, out_features=4096, bias=True)\n",
       "        )\n",
       "        (output): FNetOutput(\n",
       "          (dense): Linear(in_features=4096, out_features=1024, bias=True)\n",
       "          (LayerNorm): LayerNorm((1024,), eps=1e-12, elementwise_affine=True)\n",
       "          (dropout): Dropout(p=0.1, inplace=False)\n",
       "        )\n",
       "      )\n",
       "      (22): FNetLayer(\n",
       "        (fourier): FNetFourierTransform(\n",
       "          (self): FNetBasicFourierTransform()\n",
       "          (output): FNetBasicOutput(\n",
       "            (LayerNorm): LayerNorm((1024,), eps=1e-12, elementwise_affine=True)\n",
       "          )\n",
       "        )\n",
       "        (intermediate): FNetIntermediate(\n",
       "          (dense): Linear(in_features=1024, out_features=4096, bias=True)\n",
       "        )\n",
       "        (output): FNetOutput(\n",
       "          (dense): Linear(in_features=4096, out_features=1024, bias=True)\n",
       "          (LayerNorm): LayerNorm((1024,), eps=1e-12, elementwise_affine=True)\n",
       "          (dropout): Dropout(p=0.1, inplace=False)\n",
       "        )\n",
       "      )\n",
       "      (23): FNetLayer(\n",
       "        (fourier): FNetFourierTransform(\n",
       "          (self): FNetBasicFourierTransform()\n",
       "          (output): FNetBasicOutput(\n",
       "            (LayerNorm): LayerNorm((1024,), eps=1e-12, elementwise_affine=True)\n",
       "          )\n",
       "        )\n",
       "        (intermediate): FNetIntermediate(\n",
       "          (dense): Linear(in_features=1024, out_features=4096, bias=True)\n",
       "        )\n",
       "        (output): FNetOutput(\n",
       "          (dense): Linear(in_features=4096, out_features=1024, bias=True)\n",
       "          (LayerNorm): LayerNorm((1024,), eps=1e-12, elementwise_affine=True)\n",
       "          (dropout): Dropout(p=0.1, inplace=False)\n",
       "        )\n",
       "      )\n",
       "    )\n",
       "  )\n",
       "  (pooler): FNetPooler(\n",
       "    (dense): Linear(in_features=1024, out_features=1024, bias=True)\n",
       "    (activation): Tanh()\n",
       "  )\n",
       ")"
      ]
     },
     "execution_count": 25,
     "metadata": {},
     "output_type": "execute_result"
    }
   ],
   "source": [
    "model"
   ]
  },
  {
   "cell_type": "code",
   "execution_count": null,
   "id": "ab72ac13-6d6b-464e-8fa3-c22d2c86486d",
   "metadata": {},
   "outputs": [],
   "source": []
  },
  {
   "cell_type": "markdown",
   "id": "a5b7c40e-4dc5-4984-927f-b50fd575c34e",
   "metadata": {},
   "source": [
    "## PaddleNLP"
   ]
  },
  {
   "cell_type": "code",
   "execution_count": 1,
   "id": "61f9bdee-5107-4fe0-8dfd-2a9aa6181776",
   "metadata": {},
   "outputs": [],
   "source": [
    "import os, sys\n",
    "sys.path.append('/workspace/fnet_paddle/PaddleNLP')"
   ]
  },
  {
   "cell_type": "code",
   "execution_count": 2,
   "id": "9937ca70-3e00-4d39-a98f-c2f9076ba2f3",
   "metadata": {},
   "outputs": [],
   "source": [
    "import paddlenlp as ppnlp"
   ]
  },
  {
   "cell_type": "code",
   "execution_count": 4,
   "id": "1ad15def-1b41-46fd-9a69-87c67f15af53",
   "metadata": {},
   "outputs": [],
   "source": [
    "torch_large_model_path = 'pretrained_model/torch/large'\n",
    "p_tokenizer = ppnlp.transformers.FNetTokenizer.from_pretrained(torch_large_model_path)"
   ]
  },
  {
   "cell_type": "code",
   "execution_count": 6,
   "id": "c191e11d-1908-46a4-97b9-d11fa865cfaf",
   "metadata": {},
   "outputs": [
    {
     "data": {
      "text/plain": [
       "{'input_ids': [4, 109, 6286, 16680, 275, 1145, 5],\n",
       " 'token_type_ids': [0, 0, 0, 0, 0, 0, 0]}"
      ]
     },
     "execution_count": 6,
     "metadata": {},
     "output_type": "execute_result"
    }
   ],
   "source": [
    "p_tokenizer('hello, my bro')"
   ]
  },
  {
   "cell_type": "code",
   "execution_count": 50,
   "id": "559832bf-17db-46b2-a21c-9461d086a497",
   "metadata": {},
   "outputs": [
    {
     "name": "stdout",
     "output_type": "stream",
     "text": [
      "[[[24.+0.j  0.+0.j  0.+0.j  0.-0.j]\n",
      "  [-8.+8.j  0.+0.j  0.+0.j  0.-0.j]\n",
      "  [-8.+0.j  0.+0.j  0.+0.j  0.-0.j]\n",
      "  [-8.-8.j  0.+0.j  0.+0.j  0.-0.j]]\n",
      "\n",
      " [[24.+0.j  0.+0.j  0.+0.j  0.-0.j]\n",
      "  [-8.+8.j  0.+0.j  0.+0.j  0.-0.j]\n",
      "  [-8.+0.j  0.+0.j  0.+0.j  0.-0.j]\n",
      "  [-8.-8.j  0.+0.j  0.+0.j  0.-0.j]]\n",
      "\n",
      " [[24.+0.j  0.+0.j  0.+0.j  0.-0.j]\n",
      "  [-8.+8.j  0.+0.j  0.+0.j  0.-0.j]\n",
      "  [-8.+0.j  0.+0.j  0.+0.j  0.-0.j]\n",
      "  [-8.-8.j  0.+0.j  0.+0.j  0.-0.j]]\n",
      "\n",
      " [[24.+0.j  0.+0.j  0.+0.j  0.-0.j]\n",
      "  [-8.+8.j  0.+0.j  0.+0.j  0.-0.j]\n",
      "  [-8.+0.j  0.+0.j  0.+0.j  0.-0.j]\n",
      "  [-8.-8.j  0.+0.j  0.+0.j  0.-0.j]]]\n"
     ]
    }
   ],
   "source": [
    "# fourier transform\n",
    "import numpy as np\n",
    "import paddle\n",
    "x = np.mgrid[:4, :4, :4][1]\n",
    "xp = paddle.to_tensor(x)\n",
    "fftn_xp = paddle.fft.fftn(xp, axes=(1, 2)).numpy()\n",
    "print(fftn_xp)"
   ]
  },
  {
   "cell_type": "code",
   "execution_count": 83,
   "id": "634ce4b2-8ec2-43de-adad-46f3625d6740",
   "metadata": {},
   "outputs": [
    {
     "data": {
      "text/plain": [
       "True"
      ]
     },
     "execution_count": 83,
     "metadata": {},
     "output_type": "execute_result"
    }
   ],
   "source": [
    "import torch\n",
    "tp = torch.tensor(x)\n",
    "fftn_tp = torch.fft.fftn(tp, dim=(1, 2)).numpy()\n",
    "(fftn_tp==fftn_xp).all()"
   ]
  },
  {
   "cell_type": "code",
   "execution_count": 128,
   "id": "a03bd71c-c302-46ca-b94b-70e112244f73",
   "metadata": {},
   "outputs": [],
   "source": [
    "from functools import partial\n",
    "fourier_transform = partial(paddle.fft.fftn, axes=(1, 2))"
   ]
  },
  {
   "cell_type": "code",
   "execution_count": 129,
   "id": "4bdc4248-b0d3-44aa-ad58-f66d379667c3",
   "metadata": {},
   "outputs": [],
   "source": [
    "t_fourier_transform = partial(torch.fft.fftn, dim=(1, 2))"
   ]
  },
  {
   "cell_type": "code",
   "execution_count": 136,
   "id": "22f1004a-8c65-48dc-a5ba-7c96d18ac0fd",
   "metadata": {},
   "outputs": [],
   "source": [
    "hidden = np.random.randn(3, 3,748)"
   ]
  },
  {
   "cell_type": "code",
   "execution_count": 138,
   "id": "43b2d27a-4aac-43df-a798-cf03814e3c3d",
   "metadata": {},
   "outputs": [
    {
     "data": {
      "text/plain": [
       "(3, 3, 748)"
      ]
     },
     "execution_count": 138,
     "metadata": {},
     "output_type": "execute_result"
    }
   ],
   "source": [
    "hidden.shape"
   ]
  },
  {
   "cell_type": "code",
   "execution_count": 147,
   "id": "bb7e4f54-b8bf-4d6d-9b8c-0bca42699d5c",
   "metadata": {},
   "outputs": [],
   "source": [
    "t = t_fourier_transform(torch.tensor(hidden, dtype=torch.complex64)).real"
   ]
  },
  {
   "cell_type": "code",
   "execution_count": 161,
   "id": "bdde534f-89b6-4f83-bad1-290069b8ce80",
   "metadata": {},
   "outputs": [],
   "source": [
    "p = fourier_transform(paddle.to_tensor(hidden, dtype=paddle.complex64)).real()"
   ]
  },
  {
   "cell_type": "code",
   "execution_count": 165,
   "id": "05fa824d-b19f-4fd8-847a-f1dd4ab07d9a",
   "metadata": {},
   "outputs": [
    {
     "data": {
      "text/plain": [
       "tensor([[-14.9004,   6.6395,  -9.6454,  ...,  15.2369,  -9.6454,   6.6395],\n",
       "        [-12.1572, -53.5400,  45.1136,  ...,  30.6507, -26.7674, -44.2849],\n",
       "        [-12.1572, -44.2849, -26.7674,  ...,  22.1350,  45.1136, -53.5401]])"
      ]
     },
     "execution_count": 165,
     "metadata": {},
     "output_type": "execute_result"
    }
   ],
   "source": [
    "t[0]"
   ]
  },
  {
   "cell_type": "code",
   "execution_count": 163,
   "id": "bf91d05b-9e88-4f1a-b7ef-7effb96ccc3b",
   "metadata": {},
   "outputs": [
    {
     "data": {
      "text/plain": [
       "Tensor(shape=[3, 748], dtype=float32, place=CUDAPlace(0), stop_gradient=True,\n",
       "       [[-14.90035820,  6.63952351 , -9.64538479 , ...,  15.23688889,\n",
       "         -9.64538574 ,  6.63953114 ],\n",
       "        [-12.15722370, -53.54005432,  45.11361313, ...,  30.65068436,\n",
       "         -26.76741409, -44.28493881],\n",
       "        [-12.15722370, -44.28491592, -26.76739693, ...,  22.13502502,\n",
       "          45.11362839, -53.54005432]])"
      ]
     },
     "execution_count": 163,
     "metadata": {},
     "output_type": "execute_result"
    }
   ],
   "source": [
    "p[0]"
   ]
  },
  {
   "cell_type": "code",
   "execution_count": 166,
   "id": "a1a05e76-f483-40b8-9ffa-f31c0004d377",
   "metadata": {},
   "outputs": [
    {
     "data": {
      "text/plain": [
       "Tensor(shape=[3, 3, 748], dtype=float32, place=CUDAPlace(0), stop_gradient=True,\n",
       "       [[[-14.90035820,  6.63952351 , -9.64538479 , ...,  15.23688889,\n",
       "          -9.64538574 ,  6.63953114 ],\n",
       "         [-12.15722370, -53.54005432,  45.11361313, ...,  30.65068436,\n",
       "          -26.76741409, -44.28493881],\n",
       "         [-12.15722370, -44.28491592, -26.76739693, ...,  22.13502502,\n",
       "           45.11362839, -53.54005432]],\n",
       "\n",
       "        [[ 43.08150482,  61.31409454,  17.09560966, ..., -2.66833973 ,\n",
       "           17.09561729,  61.31409454],\n",
       "         [ 15.10789871, -34.19815063, -16.27117729, ..., -11.98955345,\n",
       "           13.75884056, -12.07743549],\n",
       "         [ 15.10789871, -12.07742691,  13.75884533, ...,  11.01449394,\n",
       "          -16.27115822, -34.19815826]],\n",
       "\n",
       "        [[-28.05401421,  17.24009705, -14.18903923, ..., -2.34581757 ,\n",
       "          -14.18904305,  17.24008560],\n",
       "         [ 5.37189198 , -9.05312157 , -14.34867573, ...,  6.90930939 ,\n",
       "           21.56071091, -36.16657257],\n",
       "         [ 5.37189198 , -36.16654205,  21.56071281, ..., -46.25520325,\n",
       "          -14.34866714, -9.05311775 ]]])"
      ]
     },
     "execution_count": 166,
     "metadata": {},
     "output_type": "execute_result"
    }
   ],
   "source": [
    "p"
   ]
  },
  {
   "cell_type": "code",
   "execution_count": null,
   "id": "75aa6746-79a9-44a6-8d73-5a53f859f281",
   "metadata": {},
   "outputs": [],
   "source": []
  }
 ],
 "metadata": {
  "kernelspec": {
   "display_name": "Python 3 (ipykernel)",
   "language": "python",
   "name": "python3"
  },
  "language_info": {
   "codemirror_mode": {
    "name": "ipython",
    "version": 3
   },
   "file_extension": ".py",
   "mimetype": "text/x-python",
   "name": "python",
   "nbconvert_exporter": "python",
   "pygments_lexer": "ipython3",
   "version": "3.8.5"
  }
 },
 "nbformat": 4,
 "nbformat_minor": 5
}
